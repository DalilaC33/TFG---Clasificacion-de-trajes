{
 "cells": [
  {
   "cell_type": "markdown",
   "id": "a9712b50",
   "metadata": {},
   "source": [
    "#### Entrenamiento Modelo Final\n",
    "Se utilizara como dataset el conjunto de entrenaiento + validacion"
   ]
  },
  {
   "cell_type": "code",
   "execution_count": null,
   "id": "b2a0395d",
   "metadata": {},
   "outputs": [],
   "source": [
    "#Con yolo8m con hiperparametros\n",
    "\n",
    "from ultralytics import YOLO\n",
    "\n",
    "# Cargar el modelo YOLOv8 para clasificación\n",
    "model = YOLO('yolov8m-cls.pt')\n",
    "\n",
    "# Entrenamiento con hiperparámetros ajustados\n",
    "model.train(\n",
    "    data=r\"C:\\Users\\dalil\\Desktop\\Tesis_2025\\Tutorial_yolo_\\Tutorial_yolo\\dataset\",\n",
    "    epochs=20,  # Más épocas para mejor aprendizaje\n",
    "    imgsz=256,  # Tamaño de la imagen\n",
    "    batch=16,  # Tamaño del batch\n",
    "    lr0=0.01,  # Tasa de aprendizaje inicial\n",
    "    lrf=0.1,  # Factor de reducción de la tasa de aprendizaje\n",
    "    momentum=0.9,  # Momento de optimización\n",
    "    weight_decay=5e-4,  # Regularización L2\n",
    "    optimizer='SGD',  # Optimizador (puede ser 'AdamW' también)\n",
    "    project=r\"C:\\Users\\dalil\\Desktop\\Tesis_2025\\Tutorial_yolo_\\Tutorial_yolo\\modelo8m2\",\n",
    "    patience=10,  # Número de épocas sin mejora antes de detener el entrenamiento\n",
    "    dropout=0.2,  # Tasa de dropout para prevenir overfitting\n",
    "    augment=True  # Aumentación de datos\n",
    ")\n"
   ]
  }
 ],
 "metadata": {
  "language_info": {
   "name": "python"
  }
 },
 "nbformat": 4,
 "nbformat_minor": 5
}
