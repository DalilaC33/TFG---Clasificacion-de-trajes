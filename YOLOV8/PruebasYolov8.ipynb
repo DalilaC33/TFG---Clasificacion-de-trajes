{
 "cells": [
  {
   "cell_type": "markdown",
   "metadata": {},
   "source": [
    "Pruebas con YOLO V8 MODELO ENTRENADO"
   ]
  },
  {
   "cell_type": "code",
   "execution_count": null,
   "metadata": {},
   "outputs": [],
   "source": [
    "#cargamos el modelo entrenado\n",
    "from ultralytics import YOLO\n",
    "import cv2\n",
    "\n",
    "cap = cv2.VideoCapture(0)\n",
    "cap.set(3, 1280)\n",
    "cap.set(4, 720)\n",
    "\n",
    "custom_model = \"C:\\\\Users\\\\dalil\\\\Desktop\\\\Tesis_2025\\\\Tutorial_yolo_\\\\Tutorial_yolo\\\\modelo2\\\\runs\\\\classify\\\\train3\\\\weights\\\\best.pt\"\n",
    "# model\n",
    "model = YOLO(custom_model)\n",
    "\n",
    "dataset_path = r'C:\\\\Users\\\\dalil\\\\Desktop\\\\Tesis_2025\\\\Tutorial_yolo_\\\\Tutorial_yolo\\\\dataset'\n",
    "# Validate the model on your test dataset\n",
    "metrics = model.val(data=dataset_path)"
   ]
  },
  {
   "cell_type": "code",
   "execution_count": null,
   "metadata": {},
   "outputs": [],
   "source": [
    "#Evaluacion del modelo\n",
    "!yolo task=classify mode=val model=\"C:\\\\Users\\\\dalil\\\\Desktop\\\\Tesis_2025\\\\TFG---Clasificacion-de-trajes\\\\Tutorial_yolo\\\\modelo2\\\\runs\\\\classify\\\\train\\\\weights\\\\best.pt\" data=\"C:\\\\Users\\\\dalil\\\\Desktop\\\\Tesis_2025\\\\TFG---Clasificacion-de-trajes\\\\Tutorial_yolo\\\\dataset\" imgsz=256"
   ]
  },
  {
   "cell_type": "markdown",
   "metadata": {},
   "source": [
    "Predecir una imagen"
   ]
  },
  {
   "cell_type": "code",
   "execution_count": null,
   "metadata": {},
   "outputs": [],
   "source": [
    "import cv2\n",
    "import numpy as np\n",
    "\n",
    "# Función para cargar el modelo entrenado\n",
    "def load_model(model_path):\n",
    "    model = YOLO(model_path)\n",
    "    return model\n",
    "\n",
    "# Ruta al modelo entrenado\n",
    "model = load_model(custom_model)\n",
    "\n",
    "# Ruta local de la imagen\n",
    "#image_path = \"innspi.png\"\n",
    "image_path = \"pop.png\"\n",
    "#image_path = \"fantasia.png\"\n",
    "#image_path = \"mgmfan.jpeg\"\n",
    "#image_path = \"trad.png\"\n",
    "\n",
    "# Cargar imagen desde archivo local\n",
    "img = cv2.imread(image_path)\n",
    "\n",
    "if img is not None:\n",
    "    String = 'Results'\n",
    "    results = model(img, stream=True, verbose=False)\n",
    "    for r in results:\n",
    "        conf_val = dict(enumerate(r.probs.data.numpy(), 1))\n",
    "        names = r.names\n",
    "        i = 1\n",
    "        max_index = max(conf_val, key=conf_val.get)\n",
    "        for (k1, v1), (k2, v2) in zip(names.items(), conf_val.items()):\n",
    "            String = str(v1) + \"->\" + str(v2)\n",
    "            color = (0, 255, 0) if max_index == i else (0, 0, 255)\n",
    "            img = cv2.putText(img, String, (20, 35 * i), cv2.FONT_HERSHEY_SIMPLEX, 1.2, color, 2, cv2.LINE_AA)\n",
    "            i += 1\n",
    "\n",
    "    cv2.imshow('Image from Local File', img)\n",
    "    cv2.waitKey(0)\n",
    "    cv2.destroyAllWindows()\n",
    "else:\n",
    "    print(\"No se pudo cargar la imagen desde el archivo local.\")\n"
   ]
  },
  {
   "cell_type": "markdown",
   "metadata": {},
   "source": [
    "Predecir una imagen en tiempo real"
   ]
  },
  {
   "cell_type": "code",
   "execution_count": null,
   "metadata": {},
   "outputs": [],
   "source": [
    "\n",
    "while True:\n",
    "    String = 'Results'\n",
    "    success, img = cap.read()\n",
    "    results = model(img, stream=True, verbose=False)\n",
    "    for r in results:\n",
    "        conf_val = dict(enumerate(r.probs.data.numpy(),1))\n",
    "        names = r.names\n",
    "        #print(conf_val, type(conf_val))\n",
    "        #print(names, type(names))\n",
    "        i=1\n",
    "        max_index = max(conf_val, key=conf_val.get)\n",
    "        for (k1,v1), (k2,v2) in zip(names.items(), conf_val.items()):\n",
    "            #print(v1, \"->\", v2)\n",
    "            String = str(v1) + \"->\" + str(v2)   \n",
    "            if max_index == i:\n",
    "                color = (0,255,0)\n",
    "            else:\n",
    "                color = (0,0,255)\n",
    "            img = cv2.putText(img, String, (20, 35*i), cv2.FONT_HERSHEY_SIMPLEX ,  1.2, color , 2, cv2.LINE_AA) \n",
    "            i = i + 1 \n",
    "\n",
    "    cv2.imshow('Webcam', img)\n",
    "    if cv2.waitKey(1) == ord('q'):\n",
    "        break\n",
    "\n",
    "cap.release()\n",
    "cv2.destroyAllWindows()"
   ]
  }
 ],
 "metadata": {
  "language_info": {
   "name": "python"
  }
 },
 "nbformat": 4,
 "nbformat_minor": 2
}
