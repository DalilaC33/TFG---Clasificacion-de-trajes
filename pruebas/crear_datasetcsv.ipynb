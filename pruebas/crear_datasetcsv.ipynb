{
 "cells": [
  {
   "cell_type": "code",
   "execution_count": 2,
   "metadata": {},
   "outputs": [
    {
     "name": "stdout",
     "output_type": "stream",
     "text": [
      "CSV generado: dataset_test.csv\n"
     ]
    }
   ],
   "source": [
    "import os\n",
    "import csv\n",
    "\n",
    "# Ruta de la carpeta test dentro del dataset\n",
    "dataset_path = r\"C:\\\\Users\\\\dalil\\\\Desktop\\\\Tesis_2025\\\\TFG---Clasificacion-de-trajes\\\\YOLOV8\\\\dataset\\\\test\"\n",
    "output_csv = \"dataset_test.csv\"\n",
    "\n",
    "# Lista para almacenar los datos\n",
    "data = []\n",
    "\n",
    "# Recorrer las subcarpetas (categorías)\n",
    "for category in os.listdir(dataset_path):\n",
    "    category_path = os.path.join(dataset_path, category)\n",
    "    \n",
    "    # Verificar que es un directorio\n",
    "    if os.path.isdir(category_path):\n",
    "        for filename in os.listdir(category_path):\n",
    "            file_path = os.path.join(category_path, filename)\n",
    "            \n",
    "            # Verificar que es un archivo\n",
    "            if os.path.isfile(file_path):\n",
    "                data.append([file_path, category, \"test\"])\n",
    "\n",
    "# Escribir los datos en un archivo CSV\n",
    "with open(output_csv, mode=\"w\", newline=\"\", encoding=\"utf-8\") as file:\n",
    "    writer = csv.writer(file)\n",
    "    writer.writerows(data)\n",
    "\n",
    "print(f\"CSV generado: {output_csv}\")\n"
   ]
  }
 ],
 "metadata": {
  "kernelspec": {
   "display_name": "Python 3",
   "language": "python",
   "name": "python3"
  },
  "language_info": {
   "codemirror_mode": {
    "name": "ipython",
    "version": 3
   },
   "file_extension": ".py",
   "mimetype": "text/x-python",
   "name": "python",
   "nbconvert_exporter": "python",
   "pygments_lexer": "ipython3",
   "version": "3.11.9"
  }
 },
 "nbformat": 4,
 "nbformat_minor": 2
}
