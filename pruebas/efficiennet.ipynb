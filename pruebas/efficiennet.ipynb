{
 "cells": [
  {
   "cell_type": "code",
   "execution_count": 1,
   "metadata": {},
   "outputs": [],
   "source": [
    "import tensorflow as tf\n",
    "import pandas as pd\n",
    "import numpy as np\n",
    "import cv2\n",
    "import os\n",
    "from tensorflow.keras.applications import EfficientNetB0\n",
    "from tensorflow.keras.utils import to_categorical\n",
    "from tensorflow.keras.layers import GlobalAveragePooling2D, Dense, Dropout\n",
    "from tensorflow.keras.models import Model\n",
    "from sklearn.model_selection import train_test_split\n",
    "from sklearn.preprocessing import LabelEncoder\n",
    "from sklearn.metrics import accuracy_score, precision_score, recall_score\n",
    "from tensorflow.keras.applications import InceptionV3\n"
   ]
  },
  {
   "cell_type": "code",
   "execution_count": 9,
   "metadata": {},
   "outputs": [
    {
     "name": "stdout",
     "output_type": "stream",
     "text": [
      "CSV guardado en dataset_labels.csv\n",
      "                                          image_path     label  split\n",
      "0  C:\\Users\\dalil\\Desktop\\Tesis_2025\\Tutorial_yol...  fantasia  train\n",
      "1  C:\\Users\\dalil\\Desktop\\Tesis_2025\\Tutorial_yol...  fantasia  train\n",
      "2  C:\\Users\\dalil\\Desktop\\Tesis_2025\\Tutorial_yol...  fantasia  train\n",
      "3  C:\\Users\\dalil\\Desktop\\Tesis_2025\\Tutorial_yol...  fantasia  train\n",
      "4  C:\\Users\\dalil\\Desktop\\Tesis_2025\\Tutorial_yol...  fantasia  train\n"
     ]
    }
   ],
   "source": [
    "import os\n",
    "import pandas as pd\n",
    "\n",
    "dataset_dir = \"C:\\\\Users\\\\dalil\\\\Desktop\\\\Tesis_2025\\\\Tutorial_yolo_\\\\Tutorial_yolo\\\\dataset\"  # Ajusta la ruta\n",
    "csv_output = \"dataset_labels.csv\"\n",
    "\n",
    "# Recorrer train, test y val\n",
    "data = []\n",
    "for split in [\"train\", \"test\", \"val\"]:\n",
    "    split_path = os.path.join(dataset_dir, split)\n",
    "    if os.path.exists(split_path):\n",
    "        for category in os.listdir(split_path):\n",
    "            category_path = os.path.join(split_path, category)\n",
    "            if os.path.isdir(category_path):\n",
    "                for image_name in os.listdir(category_path):\n",
    "                    if image_name.lower().endswith((\".jpg\", \".jpeg\", \".png\")):\n",
    "                        image_path = os.path.join(category_path, image_name)\n",
    "                        data.append((image_path, category, split))\n",
    "\n",
    "# Guardar en un CSV\n",
    "df = pd.DataFrame(data, columns=[\"image_path\", \"label\", \"split\"])\n",
    "df.to_csv(csv_output, index=False)\n",
    "\n",
    "print(f\"CSV guardado en {csv_output}\")\n",
    "print(df.head())\n"
   ]
  },
  {
   "cell_type": "code",
   "execution_count": null,
   "metadata": {},
   "outputs": [],
   "source": [
    "# Obtener etiquetas únicas y codificarlas numéricamente\n",
    "label_encoder = LabelEncoder()\n",
    "df[\"label\"] = label_encoder.fit_transform(df[\"label\"])\n",
    "num_classes = len(label_encoder.classes_)\n",
    "\n",
    "# Dividir en train, val y test\n",
    "train_df = df[df[\"split\"] == \"train\"]\n",
    "val_df = df[df[\"split\"] == \"val\"]\n",
    "test_df = df[df[\"split\"] == \"test\"]  # Agregado para testeo\n",
    "\n",
    "# Función para cargar imágenes\n",
    "def load_images(df, img_size=(224, 224)):\n",
    "    images = []\n",
    "    labels = []\n",
    "    for _, row in df.iterrows():\n",
    "        img = cv2.imread(row[\"image_path\"])\n",
    "        img = cv2.resize(img, img_size)\n",
    "        img = img.astype(\"float32\") / 255.0  # Normalizar\n",
    "        images.append(img)\n",
    "        labels.append(row[\"label\"])\n",
    "    return np.array(images), to_categorical(labels, num_classes)\n",
    "\n",
    "# Cargar imágenes\n",
    "X_train, y_train = load_images(train_df)\n",
    "X_val, y_val = load_images(val_df)\n",
    "X_test, y_test = load_images(test_df)  # Agregado para testeo\n",
    "\n",
    "# Cargar modelo preentrenado EfficientNetB0\n",
    "base_model = EfficientNetB0(weights=\"imagenet\", include_top=False, input_shape=(224, 224, 3))\n",
    "base_model.trainable = False  # Congelar capas preentrenadas\n",
    "\n",
    "# Construcción del modelo\n",
    "x = GlobalAveragePooling2D()(base_model.output)\n",
    "x = Dropout(0.5)(x)\n",
    "outputs = Dense(num_classes, activation=\"softmax\")(x)\n",
    "model = Model(inputs=base_model.input, outputs=outputs)\n",
    "\n",
    "# Compilar el modelo\n",
    "model.compile(optimizer=\"adam\", loss=\"categorical_crossentropy\", metrics=[\"accuracy\"])\n"
   ]
  },
  {
   "cell_type": "markdown",
   "metadata": {},
   "source": [
    "Eficiennet"
   ]
  },
  {
   "cell_type": "code",
   "execution_count": null,
   "metadata": {},
   "outputs": [
    {
     "name": "stdout",
     "output_type": "stream",
     "text": [
      "Epoch 1/5\n",
      "\u001b[1m44/44\u001b[0m \u001b[32m━━━━━━━━━━━━━━━━━━━━\u001b[0m\u001b[37m\u001b[0m \u001b[1m56s\u001b[0m 1s/step - accuracy: 0.2493 - loss: 1.4252 - val_accuracy: 0.2488 - val_loss: 1.3851\n",
      "Epoch 2/5\n",
      "\u001b[1m44/44\u001b[0m \u001b[32m━━━━━━━━━━━━━━━━━━━━\u001b[0m\u001b[37m\u001b[0m \u001b[1m45s\u001b[0m 1s/step - accuracy: 0.2756 - loss: 1.4012 - val_accuracy: 0.2488 - val_loss: 1.3929\n",
      "Epoch 3/5\n",
      "\u001b[1m44/44\u001b[0m \u001b[32m━━━━━━━━━━━━━━━━━━━━\u001b[0m\u001b[37m\u001b[0m \u001b[1m45s\u001b[0m 1s/step - accuracy: 0.2483 - loss: 1.4197 - val_accuracy: 0.2488 - val_loss: 1.3920\n",
      "Epoch 4/5\n",
      "\u001b[1m44/44\u001b[0m \u001b[32m━━━━━━━━━━━━━━━━━━━━\u001b[0m\u001b[37m\u001b[0m \u001b[1m49s\u001b[0m 1s/step - accuracy: 0.2401 - loss: 1.4158 - val_accuracy: 0.2585 - val_loss: 1.4106\n",
      "Epoch 5/5\n",
      "\u001b[1m44/44\u001b[0m \u001b[32m━━━━━━━━━━━━━━━━━━━━\u001b[0m\u001b[37m\u001b[0m \u001b[1m44s\u001b[0m 1s/step - accuracy: 0.2563 - loss: 1.4162 - val_accuracy: 0.2512 - val_loss: 1.4049\n",
      "\u001b[1m6/6\u001b[0m \u001b[32m━━━━━━━━━━━━━━━━━━━━\u001b[0m\u001b[37m\u001b[0m \u001b[1m10s\u001b[0m 1s/step \n",
      "Accuracy: 0.2692\n",
      "Precision: 0.1294\n",
      "Recall: 0.2692\n",
      "F1-score: 0.1262\n",
      "Confusion Matrix:\n",
      " [[ 1  0 49  0]\n",
      " [ 0  0 50  0]\n",
      " [ 2  0 48  0]\n",
      " [ 2  0 30  0]]\n",
      "Classification Report:\n",
      "               precision    recall  f1-score   support\n",
      "\n",
      "           0       0.20      0.02      0.04        50\n",
      "           1       0.00      0.00      0.00        50\n",
      "           2       0.27      0.96      0.42        50\n",
      "           3       0.00      0.00      0.00        32\n",
      "\n",
      "    accuracy                           0.27       182\n",
      "   macro avg       0.12      0.24      0.11       182\n",
      "weighted avg       0.13      0.27      0.13       182\n",
      "\n"
     ]
    },
    {
     "name": "stderr",
     "output_type": "stream",
     "text": [
      "c:\\Users\\dalil\\AppData\\Local\\Programs\\Python\\Python311\\Lib\\site-packages\\sklearn\\metrics\\_classification.py:1565: UndefinedMetricWarning: Precision is ill-defined and being set to 0.0 in labels with no predicted samples. Use `zero_division` parameter to control this behavior.\n",
      "  _warn_prf(average, modifier, f\"{metric.capitalize()} is\", len(result))\n",
      "c:\\Users\\dalil\\AppData\\Local\\Programs\\Python\\Python311\\Lib\\site-packages\\sklearn\\metrics\\_classification.py:1565: UndefinedMetricWarning: Precision is ill-defined and being set to 0.0 in labels with no predicted samples. Use `zero_division` parameter to control this behavior.\n",
      "  _warn_prf(average, modifier, f\"{metric.capitalize()} is\", len(result))\n",
      "c:\\Users\\dalil\\AppData\\Local\\Programs\\Python\\Python311\\Lib\\site-packages\\sklearn\\metrics\\_classification.py:1565: UndefinedMetricWarning: Precision is ill-defined and being set to 0.0 in labels with no predicted samples. Use `zero_division` parameter to control this behavior.\n",
      "  _warn_prf(average, modifier, f\"{metric.capitalize()} is\", len(result))\n",
      "c:\\Users\\dalil\\AppData\\Local\\Programs\\Python\\Python311\\Lib\\site-packages\\sklearn\\metrics\\_classification.py:1565: UndefinedMetricWarning: Precision is ill-defined and being set to 0.0 in labels with no predicted samples. Use `zero_division` parameter to control this behavior.\n",
      "  _warn_prf(average, modifier, f\"{metric.capitalize()} is\", len(result))\n"
     ]
    }
   ],
   "source": [
    "# Entrenar el modelo\n",
    "from sklearn.metrics import accuracy_score, precision_score, recall_score, f1_score, classification_report, confusion_matrix\n",
    "\n",
    "model.fit(X_train, y_train, validation_data=(X_val, y_val), epochs=5, batch_size=32)\n",
    "\n",
    "\n",
    "# Evaluar el modelo en el conjunto de testeo\n",
    "y_pred_prob = model.predict(X_test)\n",
    "y_pred = np.argmax(y_pred_prob, axis=1)\n",
    "y_true = np.argmax(y_test, axis=1)\n",
    "\n",
    "# Calcular métricas\n",
    "accuracy = accuracy_score(y_true, y_pred)\n",
    "precision = precision_score(y_true, y_pred, average=\"weighted\")\n",
    "recall = recall_score(y_true, y_pred, average=\"weighted\")\n",
    "f1 = f1_score(y_true, y_pred, average=\"weighted\")\n",
    "\n",
    "# Matriz de confusión y reporte de clasificación\n",
    "conf_matrix = confusion_matrix(y_true, y_pred)\n",
    "report = classification_report(y_true, y_pred)\n",
    "\n",
    "# Imprimir resultados\n",
    "print(f\"Accuracy: {accuracy:.4f}\")\n",
    "print(f\"Precision: {precision:.4f}\")\n",
    "print(f\"Recall: {recall:.4f}\")\n",
    "print(f\"F1-score: {f1:.4f}\")\n",
    "print(\"Confusion Matrix:\\n\", conf_matrix)\n",
    "print(\"Classification Report:\\n\", report)\n"
   ]
  }
 ],
 "metadata": {
  "kernelspec": {
   "display_name": "Python 3",
   "language": "python",
   "name": "python3"
  },
  "language_info": {
   "codemirror_mode": {
    "name": "ipython",
    "version": 3
   },
   "file_extension": ".py",
   "mimetype": "text/x-python",
   "name": "python",
   "nbconvert_exporter": "python",
   "pygments_lexer": "ipython3",
   "version": "3.11.9"
  }
 },
 "nbformat": 4,
 "nbformat_minor": 2
}
